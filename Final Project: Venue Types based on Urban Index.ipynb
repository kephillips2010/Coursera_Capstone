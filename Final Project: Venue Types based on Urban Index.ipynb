{
    "cells": [
        {
            "cell_type": "markdown",
            "metadata": {
                "collapsed": true
            },
            "source": "# Final Capstone Project: Analyzing Venue Information based on Urban Index Values"
        },
        {
            "cell_type": "markdown",
            "metadata": {},
            "source": "## Introduction and Business Problem"
        },
        {
            "cell_type": "markdown",
            "metadata": {},
            "source": "In this analysis the problem being examined is the one of urban vs. rural areas and the types of venues that might be successful in each. Imagine that a development company has several tracts of recently zoned farmland, but also recently acquired some vacant lots in a re-emerging area of a large city. What types of venues are common in the rural areas that might do well on the farmland? What types of venues are popular in the urban downtowns of populous places? How could someone find out what is already out there? \n\nUsing a publicly available dataset from FiveThirtyEight (https://github.com/fivethirtyeight/data/tree/master/urbanization-index), it is possible to examine latitudes and longitudes by state, and also by what the people at FiveThirtyEight are calling the \"urbanization index.\" This is a measure of how many people are living in a 5-mile radius of other people using census data. This is a desireable data set because it already contains latitude and longitude information, in addition to the state name, and will give the rankings of urban vs. rural that the analysis is trying to answer.\n\nThen, using FourSquare venue information, the analysis will examine what types of venues exist based on the urban index of the location, and the data will finally be visualized in a way that is easy to understand and useful in answering the question, what should we build? \n"
        },
        {
            "cell_type": "markdown",
            "metadata": {},
            "source": "## Data "
        },
        {
            "cell_type": "markdown",
            "metadata": {},
            "source": "There will be 2 types of data used in this analysis. The first is the publicly available dataset from FiveThirtyEight, as previously described in the Introduction. This data set was chosen for many reasons. It contains the latitude and longitude of the locations, which is useful, as I found difficulty in pulling the geotagged data previously and was looking for a data set that included it already. It can be downloaded as a .csv file, a format that is easily integrated with Python into dataframes and then used for analysis. It also was a good resource and really the inspriration for my idea of looking at venue types for urban vs. rural environments, as the prime use of the data set is the \"urbanization index\" that allows the locations to be classified by population density. \n\nI plan to sort the data into one state, and then likely choose 5 or 10 random locations within that state that evenly represent urban and rural extremes. I want to make sure that the \"suburban\" areas are not included, so I will limit the choices in location to the ends of the index. I will probably have to check some of the more rural areas to make sure there is adequate fourquare data, and also run some preliminary analysis and visualization to find the bounds of what I will consider a \"rural\" value on the index, and what is \"urban.\" \n\nOnce I have the locations chosen, I will pull the venue information from Foursquare, and analyze it to determine the number and types of locations in the rural areas vs the urban. I plan to also gather some of the rating information for the venues to help any potential developer understand the potential success of different venues. I have not yet decided what type of visualization might be best for this, but it will likely involve a map showing the venues and locations, and a graph or table showing the types in each environment. And that will be the finished product."
        },
        {
            "cell_type": "code",
            "execution_count": null,
            "metadata": {},
            "outputs": [],
            "source": ""
        }
    ],
    "metadata": {
        "kernelspec": {
            "display_name": "Python 3.7",
            "language": "python",
            "name": "python3"
        },
        "language_info": {
            "codemirror_mode": {
                "name": "ipython",
                "version": 3
            },
            "file_extension": ".py",
            "mimetype": "text/x-python",
            "name": "python",
            "nbconvert_exporter": "python",
            "pygments_lexer": "ipython3",
            "version": "3.7.9"
        }
    },
    "nbformat": 4,
    "nbformat_minor": 1
}